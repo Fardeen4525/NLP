{
 "cells": [
  {
   "cell_type": "code",
   "execution_count": 3,
   "metadata": {},
   "outputs": [],
   "source": [
    "import nltk \n",
    "from nltk.corpus import stopwords \n",
    "from nltk.tokenize import word_tokenize, sent_tokenize \n",
    "stop_words = set(stopwords.words('english'))"
   ]
  },
  {
   "cell_type": "code",
   "execution_count": 4,
   "metadata": {},
   "outputs": [],
   "source": [
    "txt = '''Born to a Gujarati family in Vadnagar, Modi helped his father sell tea as a child and has said he later ran his own stall. He was introduced to the RSS at the age of eight, beginning a long association with the organisation. Modi left home after finishing high-school in part due to an arranged marriage to Jashodaben Chimanlal Modi, which he abandoned and publicly acknowledged only many decades later. Modi travelled around India for two years and visited a number of religious centres before returning to Gujarat. In 1971 he became a full-time worker for the RSS. During the state of emergency imposed across the country in 1975, Modi was forced to go into hiding. The RSS assigned him to the BJP in 1985 and he held several positions within the party hierarchy until 2001, rising to the rank of general secretary.'''"
   ]
  },
  {
   "cell_type": "code",
   "execution_count": 5,
   "metadata": {},
   "outputs": [
    {
     "name": "stdout",
     "output_type": "stream",
     "text": [
      "[('Born', 'NNP'), ('Gujarati', 'NNP'), ('family', 'NN'), ('Vadnagar', 'NNP'), (',', ','), ('Modi', 'NNP'), ('helped', 'VBD'), ('father', 'RB'), ('sell', 'VB'), ('tea', 'NN'), ('child', 'NN'), ('said', 'VBD'), ('later', 'RBR'), ('ran', 'VBD'), ('stall', 'NN'), ('.', '.')]\n",
      "[('He', 'PRP'), ('introduced', 'VBD'), ('RSS', 'NNP'), ('age', 'NN'), ('eight', 'CD'), (',', ','), ('beginning', 'VBG'), ('long', 'JJ'), ('association', 'NN'), ('organisation', 'NN'), ('.', '.')]\n",
      "[('Modi', 'NNP'), ('left', 'VBD'), ('home', 'NN'), ('finishing', 'VBG'), ('high-school', 'JJ'), ('part', 'NN'), ('due', 'JJ'), ('arranged', 'VBN'), ('marriage', 'NN'), ('Jashodaben', 'NNP'), ('Chimanlal', 'NNP'), ('Modi', 'NNP'), (',', ','), ('abandoned', 'VBD'), ('publicly', 'RB'), ('acknowledged', 'VBN'), ('many', 'JJ'), ('decades', 'NNS'), ('later', 'RB'), ('.', '.')]\n",
      "[('Modi', 'NNP'), ('travelled', 'VBD'), ('around', 'RP'), ('India', 'NNP'), ('two', 'CD'), ('years', 'NNS'), ('visited', 'VBD'), ('number', 'NN'), ('religious', 'JJ'), ('centres', 'NNS'), ('returning', 'VBG'), ('Gujarat', 'NNP'), ('.', '.')]\n",
      "[('In', 'IN'), ('1971', 'CD'), ('became', 'VBD'), ('full-time', 'JJ'), ('worker', 'NN'), ('RSS', 'NNP'), ('.', '.')]\n",
      "[('During', 'IN'), ('state', 'NN'), ('emergency', 'NN'), ('imposed', 'VBN'), ('across', 'IN'), ('country', 'NN'), ('1975', 'CD'), (',', ','), ('Modi', 'NNP'), ('forced', 'VBD'), ('go', 'VB'), ('hiding', 'NN'), ('.', '.')]\n",
      "[('The', 'DT'), ('RSS', 'NNP'), ('assigned', 'VBD'), ('BJP', 'NNP'), ('1985', 'CD'), ('held', 'VBD'), ('several', 'JJ'), ('positions', 'NNS'), ('within', 'IN'), ('party', 'NN'), ('hierarchy', 'NN'), ('2001', 'CD'), (',', ','), ('rising', 'VBG'), ('rank', 'NN'), ('general', 'JJ'), ('secretary', 'NN'), ('.', '.')]\n"
     ]
    }
   ],
   "source": [
    "tokenized = sent_tokenize(txt) \n",
    "for i in tokenized:  \n",
    "    wordsList = nltk.word_tokenize(i) \n",
    "    wordsList = [w for w in wordsList if not w in stop_words] \n",
    "    tagged = nltk.pos_tag(wordsList) \n",
    "  \n",
    "    print(tagged) "
   ]
  },
  {
   "cell_type": "code",
   "execution_count": null,
   "metadata": {},
   "outputs": [],
   "source": []
  }
 ],
 "metadata": {
  "kernelspec": {
   "display_name": "Python 3",
   "language": "python",
   "name": "python3"
  },
  "language_info": {
   "codemirror_mode": {
    "name": "ipython",
    "version": 3
   },
   "file_extension": ".py",
   "mimetype": "text/x-python",
   "name": "python",
   "nbconvert_exporter": "python",
   "pygments_lexer": "ipython3",
   "version": "3.7.7"
  }
 },
 "nbformat": 4,
 "nbformat_minor": 4
}
