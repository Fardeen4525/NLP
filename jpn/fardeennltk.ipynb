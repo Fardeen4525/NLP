{
 "cells": [
  {
   "cell_type": "code",
   "execution_count": 1,
   "metadata": {},
   "outputs": [],
   "source": [
    "import nltk"
   ]
  },
  {
   "cell_type": "code",
   "execution_count": 2,
   "metadata": {},
   "outputs": [
    {
     "data": {
      "text/plain": [
       "['Willard',\n",
       " 'Carroll',\n",
       " 'Smith',\n",
       " 'Jr.',\n",
       " '(',\n",
       " 'born',\n",
       " 'September',\n",
       " '25',\n",
       " ',',\n",
       " '1968',\n",
       " ')',\n",
       " 'is',\n",
       " 'an',\n",
       " 'American',\n",
       " 'actor',\n",
       " 'and',\n",
       " 'rapper',\n",
       " '.',\n",
       " '[',\n",
       " '4',\n",
       " ']',\n",
       " 'In',\n",
       " 'April',\n",
       " '2007',\n",
       " ',',\n",
       " 'Newsweek',\n",
       " 'called',\n",
       " 'him',\n",
       " '``',\n",
       " 'the',\n",
       " 'most',\n",
       " 'powerful',\n",
       " 'actor',\n",
       " 'in',\n",
       " 'Hollywood',\n",
       " \"''\",\n",
       " '.',\n",
       " '[',\n",
       " '5',\n",
       " ']',\n",
       " 'Smith',\n",
       " 'has',\n",
       " 'been',\n",
       " 'nominated',\n",
       " 'for',\n",
       " 'five',\n",
       " 'Golden',\n",
       " 'Globe',\n",
       " 'Awards',\n",
       " 'and',\n",
       " 'two',\n",
       " 'Academy',\n",
       " 'Awards',\n",
       " ',',\n",
       " 'and',\n",
       " 'has',\n",
       " 'won',\n",
       " 'four',\n",
       " 'Grammy',\n",
       " 'Awards',\n",
       " '.']"
      ]
     },
     "execution_count": 2,
     "metadata": {},
     "output_type": "execute_result"
    }
   ],
   "source": [
    "str='''Willard Carroll Smith Jr. (born September 25, 1968) is an American actor and rapper.[4] In April 2007, Newsweek called him \"the most powerful actor in Hollywood\".[5] Smith has been nominated for five Golden Globe Awards and two Academy Awards, and has won four Grammy Awards.'''\n",
    "nltk.word_tokenize(str)"
   ]
  },
  {
   "cell_type": "code",
   "execution_count": 3,
   "metadata": {},
   "outputs": [
    {
     "data": {
      "text/plain": [
       "[('Willard', 'NNP'),\n",
       " ('Carroll', 'NNP'),\n",
       " ('Smith', 'NNP'),\n",
       " ('Jr.', 'NNP'),\n",
       " ('(', '('),\n",
       " ('born', 'JJ'),\n",
       " ('September', 'NNP'),\n",
       " ('25', 'CD'),\n",
       " (',', ','),\n",
       " ('1968', 'CD'),\n",
       " (')', ')'),\n",
       " ('is', 'VBZ'),\n",
       " ('an', 'DT'),\n",
       " ('American', 'JJ'),\n",
       " ('actor', 'NN'),\n",
       " ('and', 'CC'),\n",
       " ('rapper', 'NN'),\n",
       " ('.', '.'),\n",
       " ('[', 'CC'),\n",
       " ('4', 'CD'),\n",
       " (']', 'NN'),\n",
       " ('In', 'IN'),\n",
       " ('April', 'NNP'),\n",
       " ('2007', 'CD'),\n",
       " (',', ','),\n",
       " ('Newsweek', 'NNP'),\n",
       " ('called', 'VBD'),\n",
       " ('him', 'PRP'),\n",
       " ('``', '``'),\n",
       " ('the', 'DT'),\n",
       " ('most', 'RBS'),\n",
       " ('powerful', 'JJ'),\n",
       " ('actor', 'NN'),\n",
       " ('in', 'IN'),\n",
       " ('Hollywood', 'NNP'),\n",
       " (\"''\", \"''\"),\n",
       " ('.', '.'),\n",
       " ('[', 'VB'),\n",
       " ('5', 'CD'),\n",
       " (']', 'NN'),\n",
       " ('Smith', 'NNP'),\n",
       " ('has', 'VBZ'),\n",
       " ('been', 'VBN'),\n",
       " ('nominated', 'VBN'),\n",
       " ('for', 'IN'),\n",
       " ('five', 'CD'),\n",
       " ('Golden', 'NNP'),\n",
       " ('Globe', 'NNP'),\n",
       " ('Awards', 'NNP'),\n",
       " ('and', 'CC'),\n",
       " ('two', 'CD'),\n",
       " ('Academy', 'NNP'),\n",
       " ('Awards', 'NNPS'),\n",
       " (',', ','),\n",
       " ('and', 'CC'),\n",
       " ('has', 'VBZ'),\n",
       " ('won', 'VBN'),\n",
       " ('four', 'CD'),\n",
       " ('Grammy', 'NNP'),\n",
       " ('Awards', 'NNP'),\n",
       " ('.', '.')]"
      ]
     },
     "execution_count": 3,
     "metadata": {},
     "output_type": "execute_result"
    }
   ],
   "source": [
    "tokens=nltk.word_tokenize(str)\n",
    "nltk.pos_tag(tokens)"
   ]
  },
  {
   "cell_type": "code",
   "execution_count": 1,
   "metadata": {},
   "outputs": [
    {
     "name": "stdout",
     "output_type": "stream",
     "text": [
      "['Willard', 'Carroll', 'Smith', 'Jr.', '(', 'born', 'September', '25', ',', '1968', ')', 'is', 'an', 'American', 'actor', 'and', 'rapper', '.', '[', '4', ']', 'In', 'April', '2007', ',', 'Newsweek', 'called', 'him', '``', 'the', 'most', 'powerful', 'actor', 'in', 'Hollywood', \"''\", '.', '[', '5', ']', 'Smith', 'has', 'been', 'nominated', 'for', 'five', 'Golden', 'Globe', 'Awards', 'and', 'two', 'Academy', 'Awards', ',', 'and', 'has', 'won', 'four', 'Grammy', 'Awards', '.']\n",
      "['Willard', 'Carroll', 'Smith', 'Jr.', '(', 'born', 'September', '25', ',', '1968', ')', 'American', 'actor', 'rapper', '.', '[', '4', ']', 'In', 'April', '2007', ',', 'Newsweek', 'called', '``', 'powerful', 'actor', 'Hollywood', \"''\", '.', '[', '5', ']', 'Smith', 'nominated', 'five', 'Golden', 'Globe', 'Awards', 'two', 'Academy', 'Awards', ',', 'four', 'Grammy', 'Awards', '.']\n",
      "47\n"
     ]
    }
   ],
   "source": [
    "from nltk.corpus import stopwords \n",
    "from nltk.tokenize import word_tokenize \n",
    "  \n",
    "example_sent = '''Willard Carroll Smith Jr. (born September 25, 1968) is an American actor and rapper.[4] In April 2007, Newsweek called him \"the most powerful actor in Hollywood\".[5] Smith has been nominated for five Golden Globe Awards and two Academy Awards, and has won four Grammy Awards.'''\n",
    "  \n",
    "stop_words = set(stopwords.words('english')) \n",
    "  \n",
    "word_tokens = word_tokenize(example_sent) \n",
    "  \n",
    "filtered_sentence = [w for w in word_tokens if not w in stop_words] \n",
    "  \n",
    "filtered_sentence = [] \n",
    "  \n",
    "for w in word_tokens: \n",
    "    if w not in stop_words: \n",
    "        filtered_sentence.append(w) \n",
    "  \n",
    "print(word_tokens) \n",
    "print(filtered_sentence)\n",
    "print(len(filtered_sentence)) "
   ]
  },
  {
   "cell_type": "code",
   "execution_count": null,
   "metadata": {},
   "outputs": [],
   "source": []
  }
 ],
 "metadata": {
  "kernelspec": {
   "display_name": "Python 3",
   "language": "python",
   "name": "python3"
  },
  "language_info": {
   "codemirror_mode": {
    "name": "ipython",
    "version": 3
   },
   "file_extension": ".py",
   "mimetype": "text/x-python",
   "name": "python",
   "nbconvert_exporter": "python",
   "pygments_lexer": "ipython3",
   "version": "3.7.7"
  }
 },
 "nbformat": 4,
 "nbformat_minor": 2
}
