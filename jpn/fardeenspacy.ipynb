{
 "cells": [
  {
   "cell_type": "code",
   "execution_count": 19,
   "metadata": {},
   "outputs": [],
   "source": [
    "import spacy\n",
    "from spacy.tokenizer import Tokenizer\n",
    "from spacy.lang.en import English"
   ]
  },
  {
   "cell_type": "code",
   "execution_count": 20,
   "metadata": {},
   "outputs": [
    {
     "name": "stdout",
     "output_type": "stream",
     "text": [
      "Willard\n",
      "Carroll\n",
      "Smith\n",
      "Jr.\n",
      "(born\n",
      "September\n",
      "25,\n",
      "1968)\n",
      "is\n",
      "an\n",
      "American\n",
      "actor\n",
      "and\n",
      "rapper.[4]\n",
      "In\n",
      "April\n",
      "2007,\n",
      "Newsweek\n",
      "called\n",
      "him\n",
      "\"the\n",
      "most\n",
      "powerful\n",
      "actor\n",
      "in\n",
      "Hollywood\".[5]\n",
      "Smith\n",
      "has\n",
      "been\n",
      "nominated\n",
      "for\n",
      "five\n",
      "Golden\n",
      "Globe\n",
      "Awards\n",
      "and\n",
      "two\n",
      "Academy\n",
      "Awards,\n",
      "and\n",
      "has\n",
      "won\n",
      "four\n",
      "Grammy\n",
      "Awards.\n"
     ]
    }
   ],
   "source": [
    "str='''Willard Carroll Smith Jr. (born September 25, 1968) is an American actor and rapper.[4] In April 2007, Newsweek called him \"the most powerful actor in Hollywood\".[5] Smith has been nominated for five Golden Globe Awards and two Academy Awards, and has won four Grammy Awards.'''\n",
    "nlp=English()\n",
    "tokenizer=Tokenizer(nlp.vocab)\n",
    "tokens=tokenizer(str)\n",
    "for token in tokens:\n",
    "    print(token)"
   ]
  },
  {
   "cell_type": "code",
   "execution_count": 21,
   "metadata": {},
   "outputs": [
    {
     "name": "stdout",
     "output_type": "stream",
     "text": [
      "Willard \t Willard \t PROPN \t NNP \t compound \t Xxxxx \t True \t False\n",
      "Carroll \t Carroll \t PROPN \t NNP \t compound \t Xxxxx \t True \t False\n",
      "Smith \t Smith \t PROPN \t NNP \t compound \t Xxxxx \t True \t False\n",
      "Jr. \t Jr. \t PROPN \t NNP \t nsubj \t Xx. \t False \t False\n",
      "( \t ( \t PUNCT \t -LRB- \t punct \t ( \t False \t False\n",
      "born \t bear \t VERB \t VBN \t amod \t xxxx \t True \t False\n",
      "September \t September \t PROPN \t NNP \t npadvmod \t Xxxxx \t True \t False\n",
      "25 \t 25 \t NUM \t CD \t nummod \t dd \t False \t False\n",
      ", \t , \t PUNCT \t , \t punct \t , \t False \t False\n",
      "1968 \t 1968 \t NUM \t CD \t nummod \t dddd \t False \t False\n",
      ") \t ) \t PUNCT \t -RRB- \t punct \t ) \t False \t False\n",
      "is \t be \t AUX \t VBZ \t ROOT \t xx \t True \t True\n",
      "an \t an \t DET \t DT \t det \t xx \t True \t True\n",
      "American \t american \t ADJ \t JJ \t amod \t Xxxxx \t True \t False\n",
      "actor \t actor \t NOUN \t NN \t attr \t xxxx \t True \t False\n",
      "and \t and \t CCONJ \t CC \t cc \t xxx \t True \t True\n",
      "rapper.[4 \t rapper.[4 \t NOUN \t NN \t conj \t xxxx.[d \t False \t False\n",
      "] \t ] \t PUNCT \t -RRB- \t punct \t ] \t False \t False\n",
      "In \t in \t ADP \t IN \t prep \t Xx \t True \t True\n",
      "April \t April \t PROPN \t NNP \t pobj \t Xxxxx \t True \t False\n",
      "2007 \t 2007 \t NUM \t CD \t nummod \t dddd \t False \t False\n",
      ", \t , \t PUNCT \t , \t punct \t , \t False \t False\n",
      "Newsweek \t Newsweek \t PROPN \t NNP \t nsubj \t Xxxxx \t True \t False\n",
      "called \t call \t VERB \t VBD \t ROOT \t xxxx \t True \t False\n",
      "him \t -PRON- \t PRON \t PRP \t dobj \t xxx \t True \t True\n",
      "\" \t \" \t PUNCT \t `` \t punct \t \" \t False \t False\n",
      "the \t the \t DET \t DT \t det \t xxx \t True \t True\n",
      "most \t most \t ADV \t RBS \t advmod \t xxxx \t True \t True\n",
      "powerful \t powerful \t ADJ \t JJ \t amod \t xxxx \t True \t False\n",
      "actor \t actor \t NOUN \t NN \t oprd \t xxxx \t True \t False\n",
      "in \t in \t ADP \t IN \t prep \t xx \t True \t True\n",
      "Hollywood\".[5 \t Hollywood\".[5 \t PROPN \t NNP \t pobj \t Xxxxx\".[d \t False \t False\n",
      "] \t ] \t PUNCT \t -RRB- \t punct \t ] \t False \t False\n",
      "Smith \t Smith \t PROPN \t NNP \t nsubjpass \t Xxxxx \t True \t False\n",
      "has \t have \t AUX \t VBZ \t aux \t xxx \t True \t True\n",
      "been \t be \t AUX \t VBN \t auxpass \t xxxx \t True \t True\n",
      "nominated \t nominate \t VERB \t VBN \t ROOT \t xxxx \t True \t False\n",
      "for \t for \t ADP \t IN \t prep \t xxx \t True \t True\n",
      "five \t five \t NUM \t CD \t nummod \t xxxx \t True \t True\n",
      "Golden \t Golden \t PROPN \t NNP \t amod \t Xxxxx \t True \t False\n",
      "Globe \t Globe \t PROPN \t NNP \t compound \t Xxxxx \t True \t False\n",
      "Awards \t Awards \t PROPN \t NNPS \t pobj \t Xxxxx \t True \t False\n",
      "and \t and \t CCONJ \t CC \t cc \t xxx \t True \t True\n",
      "two \t two \t NUM \t CD \t nummod \t xxx \t True \t True\n",
      "Academy \t Academy \t PROPN \t NNP \t compound \t Xxxxx \t True \t False\n",
      "Awards \t Awards \t PROPN \t NNPS \t conj \t Xxxxx \t True \t False\n",
      ", \t , \t PUNCT \t , \t punct \t , \t False \t False\n",
      "and \t and \t CCONJ \t CC \t cc \t xxx \t True \t True\n",
      "has \t have \t AUX \t VBZ \t aux \t xxx \t True \t True\n",
      "won \t win \t VERB \t VBN \t conj \t xxx \t True \t False\n",
      "four \t four \t NUM \t CD \t nummod \t xxxx \t True \t True\n",
      "Grammy \t Grammy \t PROPN \t NNP \t compound \t Xxxxx \t True \t False\n",
      "Awards \t Awards \t PROPN \t NNPS \t dobj \t Xxxxx \t True \t False\n",
      ". \t . \t PUNCT \t . \t punct \t . \t False \t False\n"
     ]
    }
   ],
   "source": [
    "nlp=spacy.load('en_core_web_sm')\n",
    "doc=nlp(str)\n",
    "for token in doc:\n",
    "    print(token.text, '\\t', token.lemma_,'\\t', token.pos_, '\\t',token.tag_, '\\t',token.dep_, '\\t',token.shape_, '\\t',token.is_alpha, '\\t',token.is_stop)"
   ]
  },
  {
   "cell_type": "code",
   "execution_count": 22,
   "metadata": {},
   "outputs": [
    {
     "name": "stdout",
     "output_type": "stream",
     "text": [
      "punctuation\n"
     ]
    }
   ],
   "source": [
    "print(spacy.explain('punct'))"
   ]
  },
  {
   "cell_type": "code",
   "execution_count": 23,
   "metadata": {},
   "outputs": [
    {
     "name": "stdout",
     "output_type": "stream",
     "text": [
      "None\n"
     ]
    }
   ],
   "source": [
    "print(spacy.explain('dep_'))"
   ]
  },
  {
   "cell_type": "code",
   "execution_count": 24,
   "metadata": {},
   "outputs": [
    {
     "name": "stdout",
     "output_type": "stream",
     "text": [
      "None\n"
     ]
    }
   ],
   "source": [
    "print(spacy.explain('explain'))"
   ]
  },
  {
   "cell_type": "code",
   "execution_count": 3,
   "metadata": {},
   "outputs": [
    {
     "data": {
      "text/plain": [
       "'coordinating conjunction'"
      ]
     },
     "execution_count": 3,
     "metadata": {},
     "output_type": "execute_result"
    }
   ],
   "source": [
    "spacy.explain('CCONJ')"
   ]
  },
  {
   "cell_type": "code",
   "execution_count": 17,
   "metadata": {},
   "outputs": [
    {
     "name": "stdout",
     "output_type": "stream",
     "text": [
      "['Willard', 'Carroll', 'Smith', 'Jr.', '(', 'born', 'September', '25', ',', '1968', ')', 'is', 'an', 'American', 'actor', 'and', 'rapper.[4', ']', 'In', 'April', '2007', ',', 'Newsweek', 'called', 'him', '\"', 'the', 'most', 'powerful', 'actor', 'in', 'Hollywood\".[5', ']', 'Smith', 'has', 'been', 'nominated', 'for', 'five', 'Golden', 'Globe', 'Awards', 'and', 'two', 'Academy', 'Awards', ',', 'and', 'has', 'won', 'four', 'Grammy', 'Awards', '.']\n",
      "['Willard', 'Carroll', 'Smith', 'Jr.', '(', 'born', 'September', '25', ',', '1968', ')', 'American', 'actor', 'rapper.[4', ']', 'April', '2007', ',', 'Newsweek', 'called', '\"', 'powerful', 'actor', 'Hollywood\".[5', ']', 'Smith', 'nominated', 'Golden', 'Globe', 'Awards', 'Academy', 'Awards', ',', 'won', 'Grammy', 'Awards', '.']\n",
      "37\n"
     ]
    }
   ],
   "source": [
    "from spacy.lang.en import English\n",
    "\n",
    "# Load English tokenizer, tagger, parser, NER and word vectors\n",
    "nlp = English()\n",
    "\n",
    "text = '''Willard Carroll Smith Jr. (born September 25, 1968) is an American actor and rapper.[4] In April 2007, Newsweek called him \"the most powerful actor in Hollywood\".[5] Smith has been nominated for five Golden Globe Awards and two Academy Awards, and has won four Grammy Awards.'''\n",
    "\n",
    "#  \"nlp\" Object is used to create documents with linguistic annotations.\n",
    "my_doc = nlp(text)\n",
    "\n",
    "# Create list of word tokens\n",
    "token_list = []\n",
    "for token in my_doc:\n",
    "    token_list.append(token.text)\n",
    "\n",
    "from spacy.lang.en.stop_words import STOP_WORDS\n",
    "\n",
    "# Create list of word tokens after removing stopwords\n",
    "filtered_sentence =[] \n",
    "\n",
    "for word in token_list:\n",
    "    lexeme = nlp.vocab[word]\n",
    "    if lexeme.is_stop == False:\n",
    "        filtered_sentence.append(word) \n",
    "print(token_list)\n",
    "print(filtered_sentence)\n",
    "print(len(filtered_sentence))"
   ]
  },
  {
   "cell_type": "code",
   "execution_count": null,
   "metadata": {},
   "outputs": [],
   "source": []
  }
 ],
 "metadata": {
  "kernelspec": {
   "display_name": "Python 3",
   "language": "python",
   "name": "python3"
  },
  "language_info": {
   "codemirror_mode": {
    "name": "ipython",
    "version": 3
   },
   "file_extension": ".py",
   "mimetype": "text/x-python",
   "name": "python",
   "nbconvert_exporter": "python",
   "pygments_lexer": "ipython3",
   "version": "3.7.7"
  }
 },
 "nbformat": 4,
 "nbformat_minor": 2
}
