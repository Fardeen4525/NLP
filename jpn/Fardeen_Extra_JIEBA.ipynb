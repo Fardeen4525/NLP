{
 "cells": [
  {
   "cell_type": "code",
   "execution_count": 16,
   "metadata": {},
   "outputs": [],
   "source": [
    "#Hands on JIEBA.\n",
    "#Used functions like jieba.cut, jieba.cut_for_search, etc."
   ]
  },
  {
   "cell_type": "code",
   "execution_count": 1,
   "metadata": {},
   "outputs": [],
   "source": [
    "import jieba"
   ]
  },
  {
   "cell_type": "code",
   "execution_count": 2,
   "metadata": {},
   "outputs": [
    {
     "name": "stdout",
     "output_type": "stream",
     "text": [
      "Example： 獨立音樂需要大家一起來推廣，歡迎加入我們的行列！\n"
     ]
    }
   ],
   "source": [
    "sentence = \"獨立音樂需要大家一起來推廣，歡迎加入我們的行列！\"\n",
    "print (\"Example：\", sentence)"
   ]
  },
  {
   "cell_type": "code",
   "execution_count": 3,
   "metadata": {},
   "outputs": [],
   "source": [
    "words = jieba.cut(sentence, cut_all=False)"
   ]
  },
  {
   "cell_type": "code",
   "execution_count": 4,
   "metadata": {},
   "outputs": [
    {
     "name": "stderr",
     "output_type": "stream",
     "text": [
      "Building prefix dict from the default dictionary ...\n",
      "Dumping model to file cache C:\\Users\\FARDEEN\\AppData\\Local\\Temp\\jieba.cache\n",
      "Loading model cost 1.373 seconds.\n",
      "Prefix dict has been built successfully.\n"
     ]
    },
    {
     "name": "stdout",
     "output_type": "stream",
     "text": [
      "Default/Accurate Mode:獨立/ 音樂/ 需要/ 大家/ 一起/ 來/ 推廣/ ，/ 歡迎/ 加入/ 我們/ 的/ 行列/ ！\n"
     ]
    }
   ],
   "source": [
    "print(\"Default/Accurate Mode:\" + \"/ \".join(words))"
   ]
  },
  {
   "cell_type": "code",
   "execution_count": 8,
   "metadata": {},
   "outputs": [],
   "source": [
    "sentence_2 = \"独立音乐需要大家一起来推广，欢迎加入我们的行列！\""
   ]
  },
  {
   "cell_type": "code",
   "execution_count": 9,
   "metadata": {},
   "outputs": [],
   "source": [
    "words_2 = jieba.cut(sentence_2, cut_all=False)"
   ]
  },
  {
   "cell_type": "code",
   "execution_count": 10,
   "metadata": {},
   "outputs": [],
   "source": [
    "l_2 = []\n",
    "for x in words_2:\n",
    "    l_2.append(x)"
   ]
  },
  {
   "cell_type": "code",
   "execution_count": 11,
   "metadata": {},
   "outputs": [
    {
     "data": {
      "text/plain": [
       "'独立/音乐/需要/大家/一/起来/推广/，/欢迎/加入/我们/的/行列/！'"
      ]
     },
     "execution_count": 11,
     "metadata": {},
     "output_type": "execute_result"
    }
   ],
   "source": [
    "\"/\".join(l_2)"
   ]
  },
  {
   "cell_type": "code",
   "execution_count": 12,
   "metadata": {},
   "outputs": [],
   "source": [
    "from jieba import posseg as pseg"
   ]
  },
  {
   "cell_type": "code",
   "execution_count": 13,
   "metadata": {},
   "outputs": [],
   "source": [
    "words_pseg = pseg.cut('''你閉上眼睛音樂就會響起 不停的愛就永不會流失\n",
    "你閉上眼睛音樂就會響起 要不停的愛''')"
   ]
  },
  {
   "cell_type": "code",
   "execution_count": 14,
   "metadata": {},
   "outputs": [
    {
     "name": "stdout",
     "output_type": "stream",
     "text": [
      "你/r\n",
      "閉/v\n",
      "上/f\n",
      "眼睛/n\n",
      "音樂/n\n",
      "就/d\n",
      "會/v\n",
      "響起/v\n",
      " /x\n",
      "不停/d\n",
      "的/uj\n",
      "愛/v\n",
      "就/d\n",
      "永不/d\n",
      "會/zg\n",
      "流失/v\n",
      "\n",
      "/x\n",
      "你/r\n",
      "閉/v\n",
      "上/f\n",
      "眼睛/n\n",
      "音樂/n\n",
      "就/d\n",
      "會/v\n",
      "響起/v\n",
      " /x\n",
      "要/v\n",
      "不停/d\n",
      "的/uj\n",
      "愛/n\n"
     ]
    }
   ],
   "source": [
    "for x in words_pseg:\n",
    "    print(x)"
   ]
  },
  {
   "cell_type": "code",
   "execution_count": 15,
   "metadata": {},
   "outputs": [
    {
     "name": "stdout",
     "output_type": "stream",
     "text": [
      "小明, 硕士, 毕业, 于, 中国, 科学, 学院, 科学院, 中国科学院, 计算, 计算所, ，, 后, 在, 日本, 京都, 大学, 日本京都大学, 深造\n"
     ]
    }
   ],
   "source": [
    "seg_list = jieba.cut_for_search(\"小明硕士毕业于中国科学院计算所，后在日本京都大学深造\")  # 搜索引擎模式\n",
    "print(\", \".join(seg_list))"
   ]
  },
  {
   "cell_type": "code",
   "execution_count": null,
   "metadata": {},
   "outputs": [],
   "source": []
  }
 ],
 "metadata": {
  "kernelspec": {
   "display_name": "Python 3",
   "language": "python",
   "name": "python3"
  },
  "language_info": {
   "codemirror_mode": {
    "name": "ipython",
    "version": 3
   },
   "file_extension": ".py",
   "mimetype": "text/x-python",
   "name": "python",
   "nbconvert_exporter": "python",
   "pygments_lexer": "ipython3",
   "version": "3.7.4"
  }
 },
 "nbformat": 4,
 "nbformat_minor": 2
}
